{
 "cells": [
  {
   "cell_type": "code",
   "execution_count": 1,
   "id": "aa8d3b17-f814-419d-a102-b80a7ff237e1",
   "metadata": {},
   "outputs": [],
   "source": [
    "fd = open(\"inventory.txt\",'w')\n",
    "fd.close()"
   ]
  },
  {
   "cell_type": "markdown",
   "id": "264e0824-e9ac-4234-9426-8276638cfb79",
   "metadata": {},
   "source": [
    "## Product details \n",
    "1. Product ID\n",
    "2. Name of Product\n",
    "3. Price of Product\n",
    "4. Quantity"
   ]
  },
  {
   "cell_type": "code",
   "execution_count": 12,
   "id": "acde225c-b3b4-4a64-8001-789408708daa",
   "metadata": {},
   "outputs": [],
   "source": [
    "fd = open(\"inventory.txt\",'r')\n",
    "products = fd.read().split(\"\\n\")\n",
    "fd.close()"
   ]
  },
  {
   "cell_type": "code",
   "execution_count": 14,
   "id": "1e28eb2b-1e7c-4817-8f72-0ecbcc504f3c",
   "metadata": {},
   "outputs": [
    {
     "data": {
      "text/plain": [
       "['1,5 Star,5,100', '2,Milky Bar,5,100', '3,Cake,300,5', '4,Candy,1,200']"
      ]
     },
     "execution_count": 14,
     "metadata": {},
     "output_type": "execute_result"
    }
   ],
   "source": [
    "products"
   ]
  },
  {
   "cell_type": "code",
   "execution_count": 22,
   "id": "4ed2537c-18d5-4a85-8a2f-0f7f45c2ef65",
   "metadata": {},
   "outputs": [
    {
     "name": "stdout",
     "output_type": "stream",
     "text": [
      "['1', '5 Star', '5', '100']\n",
      "['2', 'Milky Bar', '5', '100']\n",
      "['3', 'Cake', '300', '5']\n",
      "['4', 'Candy', '1', '200']\n"
     ]
    }
   ],
   "source": [
    "for product in products:\n",
    "    print(product.split(','))"
   ]
  },
  {
   "cell_type": "code",
   "execution_count": 24,
   "id": "1b63ccbb-1898-47d7-99bb-2e815d0ff12b",
   "metadata": {},
   "outputs": [
    {
     "name": "stdin",
     "output_type": "stream",
     "text": [
      "Enter product ID:  1\n",
      "Enter product Quantity:  5\n"
     ]
    },
    {
     "name": "stdout",
     "output_type": "stream",
     "text": [
      "-----------------------------\n",
      "Product Name     :  5 Star\n",
      "Price            :  5\n",
      "Quantity         :  5\n",
      "-----------------------------\n",
      "Billing Amount   :  25\n",
      "-----------------------------\n"
     ]
    }
   ],
   "source": [
    "ui_prod_id = input(\"Enter product ID: \")\n",
    "ui_prod_qn = input(\"Enter product Quantity: \")\n",
    "\n",
    "for product in products:\n",
    "    \n",
    "    prod_details = product.split(',')\n",
    "    \n",
    "    if(prod_details[0] == ui_prod_id):\n",
    "        print(\"-----------------------------\")\n",
    "        print(\"Product Name     : \", prod_details[1])\n",
    "        print(\"Price            : \", prod_details[2]) \n",
    "        print(\"Quantity         : \", ui_prod_qn) \n",
    "        print(\"-----------------------------\")\n",
    "        print(\"Billing Amount   : \", int(ui_prod_qn) * int(prod_details[2]))\n",
    "        print(\"-----------------------------\")"
   ]
  },
  {
   "cell_type": "code",
   "execution_count": null,
   "id": "63acdb70-3cfe-4bc5-a91b-dafbf05b6311",
   "metadata": {},
   "outputs": [],
   "source": []
  }
 ],
 "metadata": {
  "kernelspec": {
   "display_name": "Python 3 (ipykernel)",
   "language": "python",
   "name": "python3"
  },
  "language_info": {
   "codemirror_mode": {
    "name": "ipython",
    "version": 3
   },
   "file_extension": ".py",
   "mimetype": "text/x-python",
   "name": "python",
   "nbconvert_exporter": "python",
   "pygments_lexer": "ipython3",
   "version": "3.12.4"
  }
 },
 "nbformat": 4,
 "nbformat_minor": 5
}
